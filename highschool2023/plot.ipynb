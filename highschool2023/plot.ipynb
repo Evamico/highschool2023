{
 "cells": [
  {
   "attachments": {},
   "cell_type": "markdown",
   "metadata": {},
   "source": [
    "A python library matplotlib is very useful in plotting! Below is an example we went over at today's meeting."
   ]
  },
  {
   "cell_type": "code",
   "execution_count": null,
   "metadata": {},
   "outputs": [],
   "source": [
    "# First, let's import the library \n",
    "# (By the way, recall that this is comment only for you to read)\n",
    "\n",
    "import matplotlib.pyplot as plt"
   ]
  },
  {
   "cell_type": "code",
   "execution_count": null,
   "metadata": {},
   "outputs": [],
   "source": [
    "x1 = [0, 2, 3, 6] # define a variable named x1 that stores a list [0, 2, 3, 6]\n",
    "y1 = [4, 6, 7, 3]\n",
    "\n",
    "x2 = [2, 7, 8, 3]\n",
    "y2 = [4, 6, 7, 3]\n",
    "\n",
    "plt.figure() # plot a new figure\n",
    "plt.plot(x1, y1, 'r--') # plot red dahsed line\n",
    "plt.plot(x2, y2, 'g.') # plot green dots\n",
    "\n",
    "plt.xlabel('x') # name x axis\n",
    "plt.ylabel('y') # name y axis\n",
    "plt.title('My First Plot') # name the plot\n",
    "plt.show() # show the plot"
   ]
  },
  {
   "attachments": {},
   "cell_type": "markdown",
   "metadata": {},
   "source": [
    "You can also plot a function such as y = sin(x) using numpy linspace."
   ]
  },
  {
   "cell_type": "code",
   "execution_count": null,
   "metadata": {},
   "outputs": [],
   "source": [
    "# You need another useful library called numpy to use linspace\n",
    "# You will understand what a python library is later, so don't worry too much about it now\n",
    "\n",
    "import numpy as np"
   ]
  },
  {
   "cell_type": "code",
   "execution_count": null,
   "metadata": {},
   "outputs": [],
   "source": [
    "x = np.linspace(0, 20, 1000) # take 1000 points between 0 and 20\n",
    "y = np.sin(x)  # corresponds to each x value \n",
    "\n",
    "# Now let's plot it! You don't need to import matplotlib.pyplot since you've already \n",
    "# imported it above\n",
    "\n",
    "plt.figure()\n",
    "plt.plot(x, y)\n",
    "plt.xlabel('x')\n",
    "plt.ylabel('y = sin(x)')\n",
    "plt.show()\n",
    "\n",
    "# Notice the range of x - it is (0, 20) as you defined above!"
   ]
  },
  {
   "attachments": {},
   "cell_type": "markdown",
   "metadata": {},
   "source": [
    "## Homework\n",
    "Below are hints for the homework questions. We will go over this on Thursday, but please feel free to plot a correct answer."
   ]
  },
  {
   "cell_type": "code",
   "execution_count": null,
   "metadata": {},
   "outputs": [],
   "source": [
    "# Q6\n",
    "# Plot y = 2x\n",
    "\n",
    "x = np.linspace(0, 5, 100) \n",
    "y = x\n",
    "\n",
    "plt.figure()\n",
    "plt.plot(x, y)\n",
    "plt.xlabel('x')\n",
    "plt.ylabel('y = 2x')\n",
    "plt.show()"
   ]
  },
  {
   "cell_type": "code",
   "execution_count": null,
   "metadata": {},
   "outputs": [],
   "source": [
    "# Q7\n",
    "# Plot y = 2x\n",
    "\n",
    "x = np.linspace(0, 5, 100) \n",
    "y = x\n",
    "\n",
    "plt.figure()\n",
    "plt.plot(x, y)\n",
    "plt.xlabel('x')\n",
    "plt.ylabel('y = 2x')\n",
    "plt.show()"
   ]
  },
  {
   "cell_type": "code",
   "execution_count": null,
   "metadata": {},
   "outputs": [],
   "source": [
    "# Q8\n",
    "# Plot y = 2x\n",
    "\n",
    "x = np.linspace(0, 5, 100) \n",
    "y = np.log(x)\n",
    "\n",
    "plt.figure()\n",
    "plt.plot(x, y)\n",
    "plt.xlabel('x')\n",
    "plt.ylabel('y = 2x')\n",
    "plt.show()"
   ]
  },
  {
   "cell_type": "code",
   "execution_count": null,
   "metadata": {},
   "outputs": [],
   "source": [
    "# Q9\n",
    "# Plot y = 2x\n",
    "\n"
   ]
  },
  {
   "cell_type": "code",
   "execution_count": null,
   "metadata": {},
   "outputs": [],
   "source": [
    "# Q9\n",
    "# Plot y = 3x"
   ]
  }
 ],
 "metadata": {
  "kernelspec": {
   "display_name": "Python 3",
   "language": "python",
   "name": "python3"
  },
  "language_info": {
   "codemirror_mode": {
    "name": "ipython",
    "version": 3
   },
   "file_extension": ".py",
   "mimetype": "text/x-python",
   "name": "python",
   "nbconvert_exporter": "python",
   "pygments_lexer": "ipython3",
   "version": "3.8.15"
  },
  "orig_nbformat": 4
 },
 "nbformat": 4,
 "nbformat_minor": 2
}
