{
 "cells": [
  {
   "attachments": {},
   "cell_type": "markdown",
   "metadata": {},
   "source": [
    "A for loop is helpful since it repeats the same operation until it's done. Let's see how it works with a list."
   ]
  },
  {
   "cell_type": "code",
   "execution_count": 16,
   "metadata": {},
   "outputs": [
    {
     "name": "stdout",
     "output_type": "stream",
     "text": [
      "1\n",
      "2\n",
      "3\n",
      "4\n",
      "5\n"
     ]
    }
   ],
   "source": [
    "myList = [1, 2, 3, 4, 5]\n",
    "\n",
    "for item in myList: # add colon\n",
    "    print(item) # indent\n"
   ]
  },
  {
   "attachments": {},
   "cell_type": "markdown",
   "metadata": {},
   "source": [
    "As you can see, it prints all the item in ```myList```. Let's see what is happening in details."
   ]
  },
  {
   "cell_type": "code",
   "execution_count": 17,
   "metadata": {},
   "outputs": [
    {
     "name": "stdout",
     "output_type": "stream",
     "text": [
      "1\n",
      "loop is now 1\n",
      "2\n",
      "loop is now 2\n",
      "3\n",
      "loop is now 3\n",
      "4\n",
      "loop is now 4\n",
      "5\n",
      "loop is now 5\n"
     ]
    }
   ],
   "source": [
    "loop = 1 # let's define a variable with value 0\n",
    "\n",
    "for num in myList: # you can call each item in my list item or num or whatever\n",
    "    print(num) # print num\n",
    "    print(\"loop is now {}\".format(loop)) # print the value of loop\n",
    "    loop = loop + 1 # update the variable loop every time it makes a loop # the same as loop += 1\n"
   ]
  },
  {
   "attachments": {},
   "cell_type": "markdown",
   "metadata": {},
   "source": [
    "You can print a type of items in your list using a for loop."
   ]
  },
  {
   "cell_type": "code",
   "execution_count": 18,
   "metadata": {},
   "outputs": [
    {
     "name": "stdout",
     "output_type": "stream",
     "text": [
      "<class 'int'>\n",
      "<class 'str'>\n",
      "<class 'float'>\n",
      "<class 'str'>\n",
      "<class 'str'>\n"
     ]
    }
   ],
   "source": [
    "myList = [1, 'abc', 5.0, 'apple', 'bee'] # define a variable called myList\n",
    "for entry in myList:\n",
    "    print(type(entry))\n"
   ]
  },
  {
   "attachments": {},
   "cell_type": "markdown",
   "metadata": {},
   "source": [
    "You can also do calculations using a for loop."
   ]
  },
  {
   "cell_type": "code",
   "execution_count": 19,
   "metadata": {},
   "outputs": [
    {
     "name": "stdout",
     "output_type": "stream",
     "text": [
      "3\n",
      "4\n",
      "5\n",
      "6\n",
      "10\n",
      "9\n",
      "done!\n"
     ]
    }
   ],
   "source": [
    "new_list = [1, 2, 3, 4, 8, 7] \n",
    "\n",
    "for num in new_list:\n",
    "    new_num = num + 2  # add 2 to num\n",
    "    print(new_num)\n",
    "    \n",
    "print('done!')"
   ]
  },
  {
   "attachments": {},
   "cell_type": "markdown",
   "metadata": {},
   "source": [
    "Below is an example Newt came up with (thanks) !"
   ]
  },
  {
   "cell_type": "code",
   "execution_count": 20,
   "metadata": {},
   "outputs": [
    {
     "name": "stdout",
     "output_type": "stream",
     "text": [
      "1 is an odd number\n",
      "3 is an odd number\n",
      "5 is an odd number\n",
      "7 is an odd number\n",
      "9 is an odd number\n"
     ]
    }
   ],
   "source": [
    "array = [1, 2, 3, 4, 5, 6, 7, 8, 9, 10]\n",
    "\n",
    "for item in array:\n",
    "    if item % 2 == 1: # odd number\n",
    "        print('{} is an odd number'.format(item))\n"
   ]
  },
  {
   "attachments": {},
   "cell_type": "markdown",
   "metadata": {},
   "source": [
    "Remember how you can call an item in a list using an index? Let's see how you can use a for loop with list indices. "
   ]
  },
  {
   "cell_type": "code",
   "execution_count": 21,
   "metadata": {},
   "outputs": [
    {
     "name": "stdout",
     "output_type": "stream",
     "text": [
      "0\n",
      "apple\n",
      "1\n",
      "banana\n",
      "2\n",
      "orange\n",
      "3\n",
      "cherry\n",
      "4\n",
      "blueberry\n"
     ]
    }
   ],
   "source": [
    "fruits = ['apple', 'banana', 'orange', 'cherry', 'blueberry']\n",
    "for i in range(len(fruits)): # range(start, stop, step), so i has a range (0, 4)\n",
    "    print(i)\n",
    "    print(fruits[i])"
   ]
  },
  {
   "cell_type": "code",
   "execution_count": 22,
   "metadata": {},
   "outputs": [
    {
     "name": "stdout",
     "output_type": "stream",
     "text": [
      "banana\n",
      "orange\n",
      "cherry\n"
     ]
    }
   ],
   "source": [
    "for i in range(len(fruits)): \n",
    "    if len(fruits[i]) % 2 == 0: # if the length (number) of characters of the item is an even number\n",
    "        print(fruits[i])"
   ]
  },
  {
   "cell_type": "code",
   "execution_count": 23,
   "metadata": {},
   "outputs": [
    {
     "name": "stdout",
     "output_type": "stream",
     "text": [
      "apple\n",
      "orange\n"
     ]
    }
   ],
   "source": [
    "my_fav_fruit = ['apple', 'orange']\n",
    "\n",
    "for i in range(len(fruits)):\n",
    "    if fruits[i] in my_fav_fruit: # see if the item is in list my_fav_fruit \n",
    "        print(fruits[i])"
   ]
  },
  {
   "cell_type": "code",
   "execution_count": null,
   "metadata": {},
   "outputs": [],
   "source": []
  }
 ],
 "metadata": {
  "kernelspec": {
   "display_name": "tardis",
   "language": "python",
   "name": "python3"
  },
  "language_info": {
   "codemirror_mode": {
    "name": "ipython",
    "version": 3
   },
   "file_extension": ".py",
   "mimetype": "text/x-python",
   "name": "python",
   "nbconvert_exporter": "python",
   "pygments_lexer": "ipython3",
   "version": "3.8.15"
  },
  "orig_nbformat": 4
 },
 "nbformat": 4,
 "nbformat_minor": 2
}
