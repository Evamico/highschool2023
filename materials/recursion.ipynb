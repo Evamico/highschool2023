{
 "cells": [
  {
   "attachments": {},
   "cell_type": "markdown",
   "metadata": {},
   "source": [
    "Recursion is a very useful method to repeat the same operations over and over again. At a meeting we mentioned fibonanni numbers, so let's take a look at how recursion works using fibonacci sequence as an example. \n",
    "\n",
    "According to Wikipedia, the fibonacci numbers may be defined by the recurrence relation $F_0 = 0$, $F_1 = 1$, and $F_n = F_{n-1} + F_{n-2}$ for n > 1.\n",
    "\n",
    "The first 10 fibonacci numbers are 0 1 1 2 3 5 8 13 21 34."
   ]
  },
  {
   "cell_type": "code",
   "execution_count": 1,
   "metadata": {},
   "outputs": [],
   "source": [
    "def fibonacci(n, f1=0, f2=1):\n",
    "    # base cases\n",
    "    if n == 0: \n",
    "        return f1\n",
    "    if n == 1:\n",
    "        return f2\n",
    "    \n",
    "    return fibonacci(n-1, f2, f1+f2)\n"
   ]
  },
  {
   "cell_type": "code",
   "execution_count": 2,
   "metadata": {},
   "outputs": [
    {
     "data": {
      "text/plain": [
       "55"
      ]
     },
     "execution_count": 2,
     "metadata": {},
     "output_type": "execute_result"
    }
   ],
   "source": [
    "fibonacci(10)"
   ]
  },
  {
   "attachments": {},
   "cell_type": "markdown",
   "metadata": {},
   "source": [
    "The function is called until the base cases are called.\n",
    "\n",
    "There are two types of recursion: head recursion and tail recursion. Let's take a look at them below. "
   ]
  },
  {
   "cell_type": "code",
   "execution_count": 7,
   "metadata": {},
   "outputs": [],
   "source": [
    "# head recursion\n",
    "\n",
    "def head_recursion(n):\n",
    "    print('calling the function for n = {}'.format(str(n)) )\n",
    "\n",
    "    if n == 0: # base case\n",
    "        return \n",
    "    \n",
    "    head_recursion(n-1) # call function\n",
    "    print(n) # do something"
   ]
  },
  {
   "cell_type": "code",
   "execution_count": 8,
   "metadata": {},
   "outputs": [
    {
     "name": "stdout",
     "output_type": "stream",
     "text": [
      "calling the function for n = 3\n",
      "calling the function for n = 2\n",
      "calling the function for n = 1\n",
      "calling the function for n = 0\n",
      "1\n",
      "2\n",
      "3\n"
     ]
    }
   ],
   "source": [
    "head_recursion(3)"
   ]
  },
  {
   "cell_type": "code",
   "execution_count": 9,
   "metadata": {},
   "outputs": [],
   "source": [
    "# tail recursion\n",
    "\n",
    "def tail_recursion(n):\n",
    "    print('calling the function for n = {}'.format(str(n)) )\n",
    "\n",
    "    if n == 0: # base case\n",
    "        return \n",
    "    \n",
    "    print(n) # do something\n",
    "    tail_recursion(n-1) # call function"
   ]
  },
  {
   "cell_type": "code",
   "execution_count": 10,
   "metadata": {},
   "outputs": [
    {
     "name": "stdout",
     "output_type": "stream",
     "text": [
      "calling the function for n = 3\n",
      "3\n",
      "calling the function for n = 2\n",
      "2\n",
      "calling the function for n = 1\n",
      "1\n",
      "calling the function for n = 0\n"
     ]
    }
   ],
   "source": [
    "tail_recursion(3)"
   ]
  },
  {
   "attachments": {},
   "cell_type": "markdown",
   "metadata": {},
   "source": [
    "Tail recursion does something first and then calls the function recursively, as oppoesed to the head recursion which calls the function recursively and then dome something. The difference is not very important now, but it is nicer to use tail recursion since head recursion uses a lot of stack memory on your computer. "
   ]
  },
  {
   "attachments": {},
   "cell_type": "markdown",
   "metadata": {},
   "source": [
    "The factorial is another good example for recursion. If you are not familiar with the factorial, you can check [here](https://en.wikipedia.org/wiki/Factorial) to see what it is, but as example, factorial of 4 is defined as 4! = 4 x 3 x 2 x 1 = 24 and factorial of 5 is 5 x 4! = 5 x 4 x 3 x 2 x 1 = 120."
   ]
  },
  {
   "cell_type": "code",
   "execution_count": 9,
   "metadata": {},
   "outputs": [],
   "source": [
    "def factorial(n):\n",
    "    # base case\n",
    "    if n == 0: \n",
    "        return 1\n",
    "    \n",
    "    tempResult = factorial(n-1) # call function\n",
    "    result = n * tempResult # do something\n",
    "\n",
    "    return result \n"
   ]
  },
  {
   "cell_type": "code",
   "execution_count": 10,
   "metadata": {},
   "outputs": [
    {
     "data": {
      "text/plain": [
       "3628800"
      ]
     },
     "execution_count": 10,
     "metadata": {},
     "output_type": "execute_result"
    }
   ],
   "source": [
    "factorial(10)"
   ]
  },
  {
   "cell_type": "code",
   "execution_count": null,
   "metadata": {},
   "outputs": [],
   "source": []
  }
 ],
 "metadata": {
  "kernelspec": {
   "display_name": "tardis",
   "language": "python",
   "name": "python3"
  },
  "language_info": {
   "codemirror_mode": {
    "name": "ipython",
    "version": 3
   },
   "file_extension": ".py",
   "mimetype": "text/x-python",
   "name": "python",
   "nbconvert_exporter": "python",
   "pygments_lexer": "ipython3",
   "version": "3.8.15"
  },
  "orig_nbformat": 4
 },
 "nbformat": 4,
 "nbformat_minor": 2
}
