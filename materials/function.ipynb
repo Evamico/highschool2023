{
 "cells": [
  {
   "attachments": {},
   "cell_type": "markdown",
   "metadata": {},
   "source": [
    "A function is helpful and you can run the code as many times as you want. Let's take a look at examples we went over on June 20. "
   ]
  },
  {
   "cell_type": "code",
   "execution_count": null,
   "metadata": {},
   "outputs": [],
   "source": [
    "def add_3(input): # define a function name. It is add_3 here.\n",
    "    result = input + 3 # do something \n",
    "    return result # return the outcome\n",
    "\n",
    "add_3(10) # this should return 13 (10 + 3 = 13)"
   ]
  },
  {
   "attachments": {},
   "cell_type": "markdown",
   "metadata": {},
   "source": [
    "You can also have multiple inputs as well. "
   ]
  },
  {
   "cell_type": "code",
   "execution_count": null,
   "metadata": {},
   "outputs": [],
   "source": [
    "def return_sum(num1, num2):\n",
    "    my_sum = num1 + num2 # remember to indent!\n",
    "    return my_sum \n",
    "\n",
    "return_sum(1, 5) # now you can use the function created outside the indentation"
   ]
  },
  {
   "attachments": {},
   "cell_type": "markdown",
   "metadata": {},
   "source": [
    "You can also have inputs that are string. Let's specify that an input should be a string using ``` ''' ```. This is a way to comment just like ``` # ```. It is simply for a human to see and conputer does not do anything additional."
   ]
  },
  {
   "cell_type": "code",
   "execution_count": null,
   "metadata": {},
   "outputs": [],
   "source": [
    "def greeting(name):\n",
    "    '''\n",
    "    input: string\n",
    "    '''\n",
    "    return print('Hello ' + name + ', how\\'s it going?')\n",
    "\n",
    "greeting('Sophia')"
   ]
  },
  {
   "attachments": {},
   "cell_type": "markdown",
   "metadata": {},
   "source": [
    "```.format()``` is helpful too. Let's take a look at how we can use it in a string. "
   ]
  },
  {
   "cell_type": "code",
   "execution_count": null,
   "metadata": {},
   "outputs": [],
   "source": [
    "def introduction(name, age, eye_color, animal):\n",
    "    result = 'Hello, I am {a} and I am {b} years old. I have {c} eyes and my favorite animal is a {d}.'.format(\n",
    "        a=name,\n",
    "        b=age,\n",
    "        c=eye_color,\n",
    "        d=animal\n",
    "    )\n",
    "    return result\n",
    "\n",
    "# {} is like a place holder. "
   ]
  },
  {
   "cell_type": "code",
   "execution_count": null,
   "metadata": {},
   "outputs": [],
   "source": [
    "# ok. let's call the function created in a cell above. \n",
    "\n",
    "introduction(\"Mike\", \"30\", \"blue\", \"dog\") # recall that you can use single or double quotes!"
   ]
  },
  {
   "cell_type": "code",
   "execution_count": null,
   "metadata": {},
   "outputs": [],
   "source": [
    "# we can call the same function however many times you want.\n",
    "\n",
    "introduction('Sara', '14', 'brown', 'horse')"
   ]
  }
 ],
 "metadata": {
  "kernelspec": {
   "display_name": "tardis",
   "language": "python",
   "name": "python3"
  },
  "language_info": {
   "codemirror_mode": {
    "name": "ipython",
    "version": 3
   },
   "file_extension": ".py",
   "mimetype": "text/x-python",
   "name": "python",
   "nbconvert_exporter": "python",
   "pygments_lexer": "ipython3",
   "version": "3.10.8"
  },
  "orig_nbformat": 4
 },
 "nbformat": 4,
 "nbformat_minor": 2
}
