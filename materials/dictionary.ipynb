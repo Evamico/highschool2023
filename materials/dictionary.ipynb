{
 "cells": [
  {
   "cell_type": "markdown",
   "metadata": {},
   "source": [
    "A Pyhton dictionary consists of ```key``` and ```value``` and is expressed as ```{key: value}```. Let's look at an example."
   ]
  },
  {
   "cell_type": "code",
   "execution_count": 6,
   "metadata": {},
   "outputs": [],
   "source": [
    "myDict = {\n",
    "    'a': 1,\n",
    "    'b': 2,\n",
    "    'c': 3,\n",
    "    'd': 4\n",
    "}"
   ]
  },
  {
   "cell_type": "markdown",
   "metadata": {},
   "source": [
    "```'a'```, ```'b'```, ```'c'```, and ```'d'``` are the keys of ```myDict``` and ```1```, ```2```, ```3```, and ```4``` are the values of the keys. You can adress the value ```2```, for example, using the value's key as below: "
   ]
  },
  {
   "cell_type": "code",
   "execution_count": 7,
   "metadata": {},
   "outputs": [
    {
     "name": "stdout",
     "output_type": "stream",
     "text": [
      "2\n"
     ]
    }
   ],
   "source": [
    "print(myDict['b'])"
   ]
  },
  {
   "cell_type": "markdown",
   "metadata": {},
   "source": [
    "So the key for a Pyhton dictionary is like an index of a Python array. A Python dictionary is useful to create a frequency table. Let's see what a frequency table does. "
   ]
  },
  {
   "cell_type": "code",
   "execution_count": 8,
   "metadata": {},
   "outputs": [],
   "source": [
    "myData = [1, 7, 6, 3, 2, 9, 0, 5, 3, 4, 4, 4, 6, 7, 2, 1, 7, 9, 9]\n",
    "\n",
    "frequencyTable = {} # create an empty dictionary\n",
    "for num in myData:\n",
    "    if num not in frequencyTable:\n",
    "        frequencyTable[num] = 1 # create a new key with value 1\n",
    "    else:\n",
    "        frequencyTable[num] += 1 # since the key is already in the dictionary, increment the value by 1  "
   ]
  },
  {
   "cell_type": "code",
   "execution_count": 9,
   "metadata": {},
   "outputs": [
    {
     "data": {
      "text/plain": [
       "{1: 2, 7: 3, 6: 2, 3: 2, 2: 2, 9: 3, 0: 1, 5: 1, 4: 3}"
      ]
     },
     "execution_count": 9,
     "metadata": {},
     "output_type": "execute_result"
    }
   ],
   "source": [
    "frequencyTable # print the frequency table"
   ]
  },
  {
   "cell_type": "code",
   "execution_count": 10,
   "metadata": {},
   "outputs": [
    {
     "name": "stdout",
     "output_type": "stream",
     "text": [
      "3\n"
     ]
    }
   ],
   "source": [
    "print(frequencyTable[4])"
   ]
  },
  {
   "cell_type": "markdown",
   "metadata": {},
   "source": [
    "There are three ```4``` in ```myData```. You can of course check the list and count, but when the data is big it is useful to use a frequency table. Is it also nice to use a dictionary since Python can search the value in a dictionary in a constant running time. (It is expressed as O(1), and we will talk about the notation if we have time before the program ends!)"
   ]
  }
 ],
 "metadata": {
  "kernelspec": {
   "display_name": "tardis",
   "language": "python",
   "name": "python3"
  },
  "language_info": {
   "codemirror_mode": {
    "name": "ipython",
    "version": 3
   },
   "file_extension": ".py",
   "mimetype": "text/x-python",
   "name": "python",
   "nbconvert_exporter": "python",
   "pygments_lexer": "ipython3",
   "version": "3.8.15"
  },
  "orig_nbformat": 4
 },
 "nbformat": 4,
 "nbformat_minor": 2
}
