{
 "cells": [
  {
   "cell_type": "markdown",
   "metadata": {},
   "source": [
    "Python lets you create new classes. Let's see what class does using an example from [Problem Solving with Algorithms and Data Structures](https://www.cs.auckland.ac.nz/compsci105s1c/resources/ProblemSolvingwithAlgorithmsandDataStructures.pdf). Here we will make a class of ```Fraction```.\n",
    "\n",
    "In order to define a method to add two fractions, recall that \n",
    "$\\frac{a}{b}$ + $\\frac{c}{d}$ = $\\frac{ad}{bd}$ + $\\frac{cb}{bd}$ = $\\frac{ad + cb}{bd}$"
   ]
  },
  {
   "cell_type": "code",
   "execution_count": 36,
   "metadata": {},
   "outputs": [],
   "source": [
    "# find greatest common divisor (Euclid's Algorithm)\n",
    "# represent in the lowest terms (1/2 and not 2/4, for example)\n",
    "def gcd(m, n):\n",
    "    while m % n != 0:\n",
    "        old_m = m\n",
    "        old_n = n \n",
    "\n",
    "        m = old_n\n",
    "        n = old_m % old_n\n",
    "    \n",
    "    return n\n",
    "\n",
    "\n",
    "# create a new class\n",
    "class Fraction: #define a class like a function\n",
    "    \n",
    "    def __init__(self, numerator, denominator): # constructor method\n",
    "        self.numerator = numerator # state (what the data looks like)\n",
    "        self.denominator = denominator \n",
    "\n",
    "    #################################\n",
    "    # method (what the data can do) #\n",
    "    #################################\n",
    "\n",
    "    # convert to type str so it can be printed in a slash form\n",
    "    def __str__(self): \n",
    "        slash =  str(self.numerator) + \"/\" + str(self.denominator)\n",
    "        return slash\n",
    "\n",
    "    def __add__(self, other_fraction): \n",
    "        new_num = self.numerator * other_fraction.denominator + self.denominator * other_fraction.numerator\n",
    "        new_den = self.denominator * other_fraction.denominator\n",
    "        common = gcd(new_num, new_den) \n",
    "\n",
    "        return Fraction(new_num // common, new_den // common)\n",
    "    \n"
   ]
  },
  {
   "cell_type": "code",
   "execution_count": 37,
   "metadata": {},
   "outputs": [
    {
     "name": "stdout",
     "output_type": "stream",
     "text": [
      "1/2\n",
      "7/6\n"
     ]
    }
   ],
   "source": [
    "# creates an object called x\n",
    "x = Fraction(1, 2) # 1/2\n",
    "\n",
    "# creates an object called y\n",
    "y = Fraction(2, 3) # 2/3\n",
    "\n",
    "print(str(x))\n",
    "print(x + y)\n"
   ]
  },
  {
   "cell_type": "markdown",
   "metadata": {},
   "source": [
    "First, create a class with ```class ClassName:```. Then indent just like when you are crating a function. A constrictor method takes a form on ```__init__``` and when a new object is created (x and y as examples), it  initializes a new instance of the class."
   ]
  }
 ],
 "metadata": {
  "kernelspec": {
   "display_name": "tardis",
   "language": "python",
   "name": "python3"
  },
  "language_info": {
   "codemirror_mode": {
    "name": "ipython",
    "version": 3
   },
   "file_extension": ".py",
   "mimetype": "text/x-python",
   "name": "python",
   "nbconvert_exporter": "python",
   "pygments_lexer": "ipython3",
   "version": "3.8.15"
  },
  "orig_nbformat": 4
 },
 "nbformat": 4,
 "nbformat_minor": 2
}
