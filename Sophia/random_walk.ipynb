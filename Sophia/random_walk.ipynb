{
 "cells": [
  {
   "cell_type": "code",
   "execution_count": 1,
   "metadata": {},
   "outputs": [],
   "source": [
    "import numpy as np\n",
    "import matplotlib.pyplot as plt\n",
    "\n",
    "x = 0 #make plot to track random value\n",
    "y = 0\n",
    "\n",
    "\n",
    "num = 0\n",
    "for i in range(0, 200, 1): #input from 0 to 200 with step of 200 #run this code for 199 times\n",
    "    random_distance = np.random.random() #[0,1) #random distance to walk\n",
    "    \n",
    "    random_angle = np.random.random() #[0,1)\n",
    "    random_theta = random_angle * 360 #random angle to change\n",
    "\n",
    "    x = random_distance * np.cos(random_theta)\n",
    "    y = random_distance * np.sin(random_theta)\n",
    "\n",
    "    if (x >= 0 and x <= 1) and (y >= 0 and y <= 1):\n",
    "        plt.scatter(x,y, c=\"orange\")\n",
    "\n",
    "plt.xlabel(\"x\")\n",
    "plt.ylabel(\"y\")\n",
    "plt.title(\"Random Plot\")\n",
    "#plt.xlim([0,1])\n",
    "#plt.ylim([0,1])\n",
    "plt.show()"
   ]
  }
 ],
 "metadata": {
  "kernelspec": {
   "display_name": "Python 3 (ipykernel)",
   "language": "python",
   "name": "python3"
  },
  "language_info": {
   "codemirror_mode": {
    "name": "ipython",
    "version": 3
   },
   "file_extension": ".py",
   "mimetype": "text/x-python",
   "name": "python",
   "nbconvert_exporter": "python",
   "pygments_lexer": "ipython3",
   "version": "3.10.8"
  },
  "orig_nbformat": 4
 },
 "nbformat": 4,
 "nbformat_minor": 2
}
