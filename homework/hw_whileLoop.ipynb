{
 "cells": [
  {
   "attachments": {},
   "cell_type": "markdown",
   "metadata": {},
   "source": [
    "Q1. \\\n",
    "Write a while loop that keeps dividing 1000 by 3 while the result is greater than 3. Print the result."
   ]
  },
  {
   "cell_type": "code",
   "execution_count": null,
   "metadata": {},
   "outputs": [],
   "source": [
    "# Sophia\n",
    "\n",
    "dividend = 10000\n",
    "divisor = 3\n",
    "\n",
    "result = dividend/divisor\n",
    "while result > 3:\n",
    "  result /= divisor\n",
    "  print(result)\n",
    "\n",
    "\n",
    "print(result)"
   ]
  }
 ],
 "metadata": {
  "kernelspec": {
   "display_name": "tardis",
   "language": "python",
   "name": "python3"
  },
  "language_info": {
   "name": "python",
   "version": "3.8.15"
  },
  "orig_nbformat": 4
 },
 "nbformat": 4,
 "nbformat_minor": 2
}
